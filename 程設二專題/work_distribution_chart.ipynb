{
 "cells": [
  {
   "cell_type": "markdown",
   "metadata": {},
   "source": [
    "程式設計(二)期末專題\n",
    "\n",
    "主題:電影排名\n",
    "\n",
    "\n",
    "分工:\n",
    "\n",
    "資數三 409170459林慈恩:Flak、SQL server、HTML\n",
    "\n",
    "應數三 409180419宋承碩:爬蟲"
   ]
  }
 ],
 "metadata": {
  "language_info": {
   "name": "python"
  },
  "orig_nbformat": 4
 },
 "nbformat": 4,
 "nbformat_minor": 2
}
